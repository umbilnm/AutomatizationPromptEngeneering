{
 "cells": [
  {
   "cell_type": "code",
   "execution_count": 44,
   "metadata": {},
   "outputs": [
    {
     "data": {
      "text/plain": [
       "True"
      ]
     },
     "execution_count": 44,
     "metadata": {},
     "output_type": "execute_result"
    }
   ],
   "source": [
    "import pandas as pd\n",
    "import os\n",
    "from utils.loader import strings\n",
    "from dotenv import load_dotenv\n",
    "from langchain.prompts import PromptTemplate\n",
    "from langchain.schema import HumanMessage, SystemMessage\n",
    "from langchain.chat_models.gigachat import GigaChat\n",
    "from utils.optimizer import Protegi\n",
    "load_dotenv()"
   ]
  },
  {
   "cell_type": "code",
   "execution_count": 45,
   "metadata": {},
   "outputs": [],
   "source": [
    "TOKEN = os.getenv(\"GIGACHAT_TOKEN\")\n",
    "GIGACHAT_AUTH = os.environ.get('GIGACHAT_AUTH')\n",
    "chat = GigaChat(model='GigaChat-Pro',credentials=f'{GIGACHAT_AUTH}', verify_ssl_certs=False)\n",
    "prompt = strings['templates']['spam']['prediction_template']\n",
    "task = 'spam'\n",
    "eval_dataset = pd.read_csv(f'./data/val_{task}.csv')\n",
    "train_dataset = pd.read_csv(f'./data/train_{task}.csv')\n",
    "sample = train_dataset.sample(30)\n",
    "prot = Protegi('spam', 'gigachat', chat)"
   ]
  },
  {
   "cell_type": "code",
   "execution_count": 49,
   "metadata": {},
   "outputs": [
    {
     "name": "stderr",
     "output_type": "stream",
     "text": [
      "100%|██████████| 30/30 [00:21<00:00,  1.38it/s]\n"
     ]
    }
   ],
   "source": [
    "texts, labels, preds = prot.evaluate_batch(sample, prompt, 'predictions', 'v1', 'v2')"
   ]
  },
  {
   "cell_type": "code",
   "execution_count": null,
   "metadata": {},
   "outputs": [],
   "source": [
    "error_string = prot.error_string(labels, preds, texts)"
   ]
  }
 ],
 "metadata": {
  "kernelspec": {
   "display_name": "course_work",
   "language": "python",
   "name": "python3"
  },
  "language_info": {
   "codemirror_mode": {
    "name": "ipython",
    "version": 3
   },
   "file_extension": ".py",
   "mimetype": "text/x-python",
   "name": "python",
   "nbconvert_exporter": "python",
   "pygments_lexer": "ipython3",
   "version": "3.11.6"
  }
 },
 "nbformat": 4,
 "nbformat_minor": 2
}
