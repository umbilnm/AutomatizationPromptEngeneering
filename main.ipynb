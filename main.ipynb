{
 "cells": [
  {
   "cell_type": "markdown",
   "metadata": {},
   "source": [
    "### Imports"
   ]
  },
  {
   "cell_type": "code",
   "execution_count": 3,
   "metadata": {},
   "outputs": [],
   "source": [
    "import pandas as pd\n",
    "import numpy as np\n",
    "from tqdm import tqdm\n",
    "from langchain.prompts import PromptTemplate\n",
    "from sklearn.metrics import accuracy_score,precision_score, recall_score, f1_score\n",
    "\n",
    "from utils.loader import llm, emb_fn, strings\n",
    "from utils.utils import prepare_data, set_all_seeds, save_predictions, calculate_metrics\n",
    "from utils.optimizer import Protegi"
   ]
  },
  {
   "cell_type": "code",
   "execution_count": 2,
   "metadata": {},
   "outputs": [],
   "source": [
    "set_all_seeds(42)"
   ]
  },
  {
   "cell_type": "markdown",
   "metadata": {},
   "source": [
    "### Metrics"
   ]
  },
  {
   "cell_type": "code",
   "execution_count": 66,
   "metadata": {},
   "outputs": [
    {
     "name": "stdout",
     "output_type": "stream",
     "text": [
      "Accuracy = 0.82\n",
      "Recall = 1.00\n",
      "Precision = 0.40\n",
      "F1 = 0.57\n"
     ]
    }
   ],
   "source": [
    "accuracy = accuracy_score(df['v1'], df['predictions'])\n",
    "recall = recall_score(df['v1'], df['predictions'])\n",
    "f1 = f1_score(df['v1'], df['predictions'])\n",
    "precision = precision_score(df['v1'], df['predictions'])\n",
    "print(f'Accuracy = {accuracy:.2f}\\nRecall = {recall:.2f}\\nPrecision = {precision:.2f}\\nF1 = {f1:.2f}')"
   ]
  }
 ],
 "metadata": {
  "kernelspec": {
   "display_name": "course_work",
   "language": "python",
   "name": "python3"
  },
  "language_info": {
   "codemirror_mode": {
    "name": "ipython",
    "version": 3
   },
   "file_extension": ".py",
   "mimetype": "text/x-python",
   "name": "python",
   "nbconvert_exporter": "python",
   "pygments_lexer": "ipython3",
   "version": "3.11.6"
  }
 },
 "nbformat": 4,
 "nbformat_minor": 2
}
