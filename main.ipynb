{
 "cells": [
  {
   "cell_type": "code",
   "execution_count": 1,
   "metadata": {},
   "outputs": [],
   "source": [
    "import pandas as pd\n",
    "import numpy as np\n",
    "from ruamel.yaml import YAML\n",
    "from langchain.prompts import PromptTemplate\n",
    "from sklearn.metrics import accuracy_score,precision_score, recall_score, f1_score\n",
    "\n",
    "from utils.loader import llm, emb_fn, strings\n",
    "from utils.utils import prepare_data, set_all_seeds, combine_gradient_prompt, save_predictions\n",
    "from tqdm import tqdm"
   ]
  },
  {
   "cell_type": "code",
   "execution_count": 2,
   "metadata": {},
   "outputs": [],
   "source": [
    "set_all_seeds(42)"
   ]
  },
  {
   "cell_type": "markdown",
   "metadata": {},
   "source": [
    "### Data"
   ]
  },
  {
   "cell_type": "code",
   "execution_count": 3,
   "metadata": {},
   "outputs": [],
   "source": [
    "prepare_data('spam', '/home/umbilnm/python_ml/AutomatizationPromptEngeneering/data/spam.csv', [100, 1000]) \n",
    "df = pd.read_csv('/home/umbilnm/python_ml/AutomatizationPromptEngeneering/data/spam_100.csv').drop(\n",
    "    columns=['Unnamed: 2','Unnamed: 3','Unnamed: 4']\n",
    ")\n",
    "messages = df['v2']"
   ]
  },
  {
   "cell_type": "markdown",
   "metadata": {},
   "source": [
    "### Model"
   ]
  },
  {
   "cell_type": "code",
   "execution_count": 4,
   "metadata": {},
   "outputs": [
    {
     "name": "stderr",
     "output_type": "stream",
     "text": [
      "100%|██████████| 100/100 [00:53<00:00,  1.86it/s]\n"
     ]
    }
   ],
   "source": [
    "template = strings['templates']['prediction_template']\n",
    "template = PromptTemplate(template=template, input_variables=['message'])\n",
    "\n",
    "preds = []\n",
    "for message in tqdm(messages):\n",
    "    prediction = llm.invoke(template.format(message=message)).content\n",
    "    preds.append(prediction)\n",
    "    df['predictions'] = 'ham' if prediction=='No' else 'spam'"
   ]
  },
  {
   "cell_type": "code",
   "execution_count": 5,
   "metadata": {},
   "outputs": [],
   "source": [
    "df['predictions'] = preds\n",
    "df['predictions'] = df['predictions'].apply(lambda x: 0 if x=='No' else 1)\n",
    "df['v1'] = df['v1'].apply(lambda x: 0 if x=='ham' else 1)"
   ]
  },
  {
   "cell_type": "code",
   "execution_count": 3,
   "metadata": {},
   "outputs": [],
   "source": [
    "preds_df = pd.read_csv('data/predistions/first_predictions.csv')\n",
    "df = pd.read_csv('data/spam_100.csv').drop(columns=[f'Unnamed: {i}' for i in range(2, 5)])\n",
    "df['preds'] = preds_df['predictions']\n",
    "df['v1'] = df['v1'].apply(lambda x: 1 if x=='spam' else 0)"
   ]
  },
  {
   "cell_type": "code",
   "execution_count": 5,
   "metadata": {},
   "outputs": [
    {
     "data": {
      "text/html": [
       "<div>\n",
       "<style scoped>\n",
       "    .dataframe tbody tr th:only-of-type {\n",
       "        vertical-align: middle;\n",
       "    }\n",
       "\n",
       "    .dataframe tbody tr th {\n",
       "        vertical-align: top;\n",
       "    }\n",
       "\n",
       "    .dataframe thead th {\n",
       "        text-align: right;\n",
       "    }\n",
       "</style>\n",
       "<table border=\"1\" class=\"dataframe\">\n",
       "  <thead>\n",
       "    <tr style=\"text-align: right;\">\n",
       "      <th></th>\n",
       "      <th>v1</th>\n",
       "      <th>v2</th>\n",
       "      <th>preds</th>\n",
       "    </tr>\n",
       "  </thead>\n",
       "  <tbody>\n",
       "    <tr>\n",
       "      <th>0</th>\n",
       "      <td>0</td>\n",
       "      <td>Funny fact Nobody teaches volcanoes 2 erupt, t...</td>\n",
       "      <td>0</td>\n",
       "    </tr>\n",
       "    <tr>\n",
       "      <th>1</th>\n",
       "      <td>0</td>\n",
       "      <td>I sent my scores to sophas and i had to do sec...</td>\n",
       "      <td>0</td>\n",
       "    </tr>\n",
       "    <tr>\n",
       "      <th>2</th>\n",
       "      <td>1</td>\n",
       "      <td>We know someone who you know that fancies you....</td>\n",
       "      <td>1</td>\n",
       "    </tr>\n",
       "    <tr>\n",
       "      <th>3</th>\n",
       "      <td>0</td>\n",
       "      <td>Only if you promise your getting out as SOON a...</td>\n",
       "      <td>0</td>\n",
       "    </tr>\n",
       "    <tr>\n",
       "      <th>4</th>\n",
       "      <td>1</td>\n",
       "      <td>Congratulations ur awarded either еЈ500 of CD ...</td>\n",
       "      <td>1</td>\n",
       "    </tr>\n",
       "    <tr>\n",
       "      <th>...</th>\n",
       "      <td>...</td>\n",
       "      <td>...</td>\n",
       "      <td>...</td>\n",
       "    </tr>\n",
       "    <tr>\n",
       "      <th>95</th>\n",
       "      <td>0</td>\n",
       "      <td>Mum say we wan to go then go... Then she can s...</td>\n",
       "      <td>0</td>\n",
       "    </tr>\n",
       "    <tr>\n",
       "      <th>96</th>\n",
       "      <td>0</td>\n",
       "      <td>Did you say bold, then torch later. Or one tor...</td>\n",
       "      <td>0</td>\n",
       "    </tr>\n",
       "    <tr>\n",
       "      <th>97</th>\n",
       "      <td>0</td>\n",
       "      <td>Not yet chikku..wat abt u?</td>\n",
       "      <td>0</td>\n",
       "    </tr>\n",
       "    <tr>\n",
       "      <th>98</th>\n",
       "      <td>0</td>\n",
       "      <td>What was she looking for?</td>\n",
       "      <td>0</td>\n",
       "    </tr>\n",
       "    <tr>\n",
       "      <th>99</th>\n",
       "      <td>0</td>\n",
       "      <td>Shopping? Eh ger i toking abt syd leh...Haha</td>\n",
       "      <td>1</td>\n",
       "    </tr>\n",
       "  </tbody>\n",
       "</table>\n",
       "<p>100 rows × 3 columns</p>\n",
       "</div>"
      ],
      "text/plain": [
       "    v1                                                 v2  preds\n",
       "0    0  Funny fact Nobody teaches volcanoes 2 erupt, t...      0\n",
       "1    0  I sent my scores to sophas and i had to do sec...      0\n",
       "2    1  We know someone who you know that fancies you....      1\n",
       "3    0  Only if you promise your getting out as SOON a...      0\n",
       "4    1  Congratulations ur awarded either еЈ500 of CD ...      1\n",
       "..  ..                                                ...    ...\n",
       "95   0  Mum say we wan to go then go... Then she can s...      0\n",
       "96   0  Did you say bold, then torch later. Or one tor...      0\n",
       "97   0                         Not yet chikku..wat abt u?      0\n",
       "98   0                          What was she looking for?      0\n",
       "99   0       Shopping? Eh ger i toking abt syd leh...Haha      1\n",
       "\n",
       "[100 rows x 3 columns]"
      ]
     },
     "execution_count": 5,
     "metadata": {},
     "output_type": "execute_result"
    }
   ],
   "source": [
    "df"
   ]
  },
  {
   "cell_type": "code",
   "execution_count": 4,
   "metadata": {},
   "outputs": [
    {
     "name": "stdout",
     "output_type": "stream",
     "text": [
      "There are examples where models answer is incorrect:\n",
      "0) Funny fact Nobody teaches volcanoes 2 erupt, tsunamis 2 arise, hurricanes 2 sway aroundn no 1 teaches hw 2 choose a wife Natural disasters just happens\n",
      "True: ham\n",
      "Predicted: ham\n",
      "------------------------------\n",
      "0) Funny fact Nobody teaches volcanoes 2 erupt, tsunamis 2 arise, hurricanes 2 sway aroundn no 1 teaches hw 2 choose a wife Natural disasters just happens\n",
      "True: ham\n",
      "Predicted: ham\n",
      "------------------------------\n",
      "1) I sent my scores to sophas and i had to do secondary application for a few schools. I think if you are thinking of applying, do a research on cost also. Contact joke ogunrinde, her school is one me the less expensive ones\n",
      "True: ham\n",
      "Predicted: ham\n",
      "------------------------------\n",
      "1) I sent my scores to sophas and i had to do secondary application for a few schools. I think if you are thinking of applying, do a research on cost also. Contact joke ogunrinde, her school is one me the less expensive ones\n",
      "True: ham\n",
      "Predicted: ham\n",
      "------------------------------\n",
      "2) We know someone who you know that fancies you. Call 09058097218 to find out who. POBox 6, LS15HB 150p\n",
      "True: spam\n",
      "Predicted: spam\n",
      "------------------------------\n",
      "2) We know someone who you know that fancies you. Call 09058097218 to find out who. POBox 6, LS15HB 150p\n",
      "True: spam\n",
      "Predicted: spam\n",
      "------------------------------\n",
      "3) Only if you promise your getting out as SOON as you can. And you'll text me in the morning to let me know you made it in ok.\n",
      "True: ham\n",
      "Predicted: ham\n",
      "------------------------------\n",
      "3) Only if you promise your getting out as SOON as you can. And you'll text me in the morning to let me know you made it in ok.\n",
      "True: ham\n",
      "Predicted: ham\n",
      "------------------------------\n",
      "4) Congratulations ur awarded either еЈ500 of CD gift vouchers & Free entry 2 our еЈ100 weekly draw txt MUSIC to 87066 TnCs www.Ldew.com1win150ppmx3age16\n",
      "True: spam\n",
      "Predicted: spam\n",
      "------------------------------\n",
      "4) Congratulations ur awarded either еЈ500 of CD gift vouchers & Free entry 2 our еЈ100 weekly draw txt MUSIC to 87066 TnCs www.Ldew.com1win150ppmx3age16\n",
      "True: spam\n",
      "Predicted: spam\n",
      "------------------------------\n",
      "5) I'll text carlos and let you know, hang on\n",
      "True: ham\n",
      "Predicted: ham\n",
      "------------------------------\n",
      "5) I'll text carlos and let you know, hang on\n",
      "True: ham\n",
      "Predicted: ham\n",
      "------------------------------\n",
      "6) K.i did't see you.:)k:)where are you now?\n",
      "True: ham\n",
      "Predicted: ham\n",
      "------------------------------\n",
      "6) K.i did't see you.:)k:)where are you now?\n",
      "True: ham\n",
      "Predicted: ham\n",
      "------------------------------\n",
      "7) No message..no responce..what happend?\n",
      "True: ham\n",
      "Predicted: ham\n",
      "------------------------------\n",
      "7) No message..no responce..what happend?\n",
      "True: ham\n",
      "Predicted: ham\n",
      "------------------------------\n",
      "8) Get down in gandhipuram and walk to cross cut road. Right side &lt;#&gt; street road and turn at first right.\n",
      "True: ham\n",
      "Predicted: ham\n",
      "------------------------------\n",
      "8) Get down in gandhipuram and walk to cross cut road. Right side &lt;#&gt; street road and turn at first right.\n",
      "True: ham\n",
      "Predicted: ham\n",
      "------------------------------\n",
      "9) You flippin your shit yet?\n",
      "True: ham\n",
      "Predicted: ham\n",
      "------------------------------\n",
      "9) You flippin your shit yet?\n",
      "True: ham\n",
      "Predicted: ham\n",
      "------------------------------\n",
      "10) For real tho this sucks. I can't even cook my whole electricity is out. And I'm hungry.\n",
      "True: ham\n",
      "Predicted: ham\n",
      "------------------------------\n",
      "10) For real tho this sucks. I can't even cook my whole electricity is out. And I'm hungry.\n",
      "True: ham\n",
      "Predicted: ham\n",
      "------------------------------\n",
      "11) Free tones Hope you enjoyed your new content. text stop to 61610 to unsubscribe. help:08712400602450p Provided by tones2you.co.uk\n",
      "True: spam\n",
      "Predicted: spam\n",
      "------------------------------\n",
      "11) Free tones Hope you enjoyed your new content. text stop to 61610 to unsubscribe. help:08712400602450p Provided by tones2you.co.uk\n",
      "True: spam\n",
      "Predicted: spam\n",
      "------------------------------\n",
      "12) I'm wif him now buying tix lar...\n",
      "True: ham\n",
      "Predicted: ham\n",
      "------------------------------\n",
      "12) I'm wif him now buying tix lar...\n",
      "True: ham\n",
      "Predicted: ham\n",
      "------------------------------\n",
      "13) Call me when u finish then i come n pick u.\n",
      "True: ham\n",
      "Predicted: ham\n",
      "------------------------------\n",
      "13) Call me when u finish then i come n pick u.\n",
      "True: ham\n",
      "Predicted: ham\n",
      "------------------------------\n",
      "\n"
     ]
    }
   ],
   "source": [
    "print(combine_gradient_prompt(df=df, true_col='v1', pred_col='preds', text_col='v2'))"
   ]
  },
  {
   "cell_type": "markdown",
   "metadata": {},
   "source": [
    "### Metrics"
   ]
  },
  {
   "cell_type": "code",
   "execution_count": 66,
   "metadata": {},
   "outputs": [
    {
     "name": "stdout",
     "output_type": "stream",
     "text": [
      "Accuracy = 0.82\n",
      "Recall = 1.00\n",
      "Precision = 0.40\n",
      "F1 = 0.57\n"
     ]
    }
   ],
   "source": [
    "accuracy = accuracy_score(df['v1'], df['predictions'])\n",
    "recall = recall_score(df['v1'], df['predictions'])\n",
    "f1 = f1_score(df['v1'], df['predictions'])\n",
    "precision = precision_score(df['v1'], df['predictions'])\n",
    "print(f'Accuracy = {accuracy:.2f}\\nRecall = {recall:.2f}\\nPrecision = {precision:.2f}\\nF1 = {f1:.2f}')"
   ]
  }
 ],
 "metadata": {
  "kernelspec": {
   "display_name": "course_work",
   "language": "python",
   "name": "python3"
  },
  "language_info": {
   "codemirror_mode": {
    "name": "ipython",
    "version": 3
   },
   "file_extension": ".py",
   "mimetype": "text/x-python",
   "name": "python",
   "nbconvert_exporter": "python",
   "pygments_lexer": "ipython3",
   "version": "3.11.6"
  }
 },
 "nbformat": 4,
 "nbformat_minor": 2
}
