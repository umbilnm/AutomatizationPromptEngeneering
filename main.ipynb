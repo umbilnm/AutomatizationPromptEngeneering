{
 "cells": [
  {
   "cell_type": "markdown",
   "metadata": {},
   "source": [
    "### Imports"
   ]
  },
  {
   "cell_type": "code",
   "execution_count": 1,
   "metadata": {},
   "outputs": [],
   "source": [
    "import pandas as pd\n",
    "import numpy as np\n",
    "from tqdm import tqdm\n",
    "from langchain.prompts import PromptTemplate\n",
    "from sklearn.metrics import accuracy_score,precision_score, recall_score, f1_score\n",
    "\n",
    "from utils.loader import llm, emb_fn, strings\n",
    "from utils.utils import prepare_data, set_all_seeds, save_predictions\n",
    "from utils.optimizer import Protegi"
   ]
  },
  {
   "cell_type": "code",
   "execution_count": 2,
   "metadata": {},
   "outputs": [],
   "source": [
    "set_all_seeds(42)"
   ]
  },
  {
   "cell_type": "markdown",
   "metadata": {},
   "source": [
    "### Data"
   ]
  },
  {
   "cell_type": "code",
   "execution_count": 3,
   "metadata": {},
   "outputs": [],
   "source": [
    "prepare_data('spam', '/home/umbilnm/python_ml/AutomatizationPromptEngeneering/data/spam.csv', [100, 1000]) \n",
    "df = pd.read_csv('/home/umbilnm/python_ml/AutomatizationPromptEngeneering/data/spam_100.csv').drop(\n",
    "    columns=['Unnamed: 2','Unnamed: 3','Unnamed: 4']\n",
    ")\n",
    "messages = df['v2']"
   ]
  },
  {
   "cell_type": "markdown",
   "metadata": {},
   "source": [
    "### Model"
   ]
  },
  {
   "cell_type": "code",
   "execution_count": 4,
   "metadata": {},
   "outputs": [],
   "source": [
    "# template = strings['templates']['prediction_template']\n",
    "# template = PromptTemplate(template=template, input_variables=['message'])\n",
    "\n",
    "# preds = []\n",
    "# for message in tqdm(messages):\n",
    "#     prediction = llm.invoke(template.format(message=message)).content\n",
    "#     preds.append(prediction)\n",
    "#     df['predictions'] = 'ham' if prediction=='No' else 'spam'"
   ]
  },
  {
   "cell_type": "code",
   "execution_count": 7,
   "metadata": {},
   "outputs": [
    {
     "ename": "NameError",
     "evalue": "name 'preds' is not defined",
     "output_type": "error",
     "traceback": [
      "\u001b[0;31m---------------------------------------------------------------------------\u001b[0m",
      "\u001b[0;31mNameError\u001b[0m                                 Traceback (most recent call last)",
      "Cell \u001b[0;32mIn[7], line 1\u001b[0m\n\u001b[0;32m----> 1\u001b[0m df[\u001b[38;5;124m'\u001b[39m\u001b[38;5;124mpredictions\u001b[39m\u001b[38;5;124m'\u001b[39m] \u001b[38;5;241m=\u001b[39m \u001b[43mpreds\u001b[49m\n\u001b[1;32m      2\u001b[0m df[\u001b[38;5;124m'\u001b[39m\u001b[38;5;124mpredictions\u001b[39m\u001b[38;5;124m'\u001b[39m] \u001b[38;5;241m=\u001b[39m df[\u001b[38;5;124m'\u001b[39m\u001b[38;5;124mpredictions\u001b[39m\u001b[38;5;124m'\u001b[39m]\u001b[38;5;241m.\u001b[39mapply(\u001b[38;5;28;01mlambda\u001b[39;00m x: \u001b[38;5;241m0\u001b[39m \u001b[38;5;28;01mif\u001b[39;00m x\u001b[38;5;241m==\u001b[39m\u001b[38;5;124m'\u001b[39m\u001b[38;5;124mNo\u001b[39m\u001b[38;5;124m'\u001b[39m \u001b[38;5;28;01melse\u001b[39;00m \u001b[38;5;241m1\u001b[39m)\n\u001b[1;32m      3\u001b[0m df[\u001b[38;5;124m'\u001b[39m\u001b[38;5;124mv1\u001b[39m\u001b[38;5;124m'\u001b[39m] \u001b[38;5;241m=\u001b[39m df[\u001b[38;5;124m'\u001b[39m\u001b[38;5;124mv1\u001b[39m\u001b[38;5;124m'\u001b[39m]\u001b[38;5;241m.\u001b[39mapply(\u001b[38;5;28;01mlambda\u001b[39;00m x: \u001b[38;5;241m0\u001b[39m \u001b[38;5;28;01mif\u001b[39;00m x\u001b[38;5;241m==\u001b[39m\u001b[38;5;124m'\u001b[39m\u001b[38;5;124mham\u001b[39m\u001b[38;5;124m'\u001b[39m \u001b[38;5;28;01melse\u001b[39;00m \u001b[38;5;241m1\u001b[39m)\n",
      "\u001b[0;31mNameError\u001b[0m: name 'preds' is not defined"
     ]
    }
   ],
   "source": [
    "df['predictions'] = preds\n",
    "df['predictions'] = df['predictions'].apply(lambda x: 0 if x=='No' else 1)\n",
    "df['v1'] = df['v1'].apply(lambda x: 0 if x=='ham' else 1)"
   ]
  },
  {
   "cell_type": "code",
   "execution_count": 4,
   "metadata": {},
   "outputs": [],
   "source": [
    "preds_df = pd.read_csv('data/predistions/first_predictions.csv')\n",
    "df = pd.read_csv('data/spam_100.csv').drop(columns=[f'Unnamed: {i}' for i in range(2, 5)])\n",
    "df['preds'] = preds_df['predictions']\n",
    "df['v1'] = df['v1'].apply(lambda x: 1 if x=='spam' else 0)"
   ]
  },
  {
   "cell_type": "markdown",
   "metadata": {},
   "source": [
    "### Metrics"
   ]
  },
  {
   "cell_type": "code",
   "execution_count": 66,
   "metadata": {},
   "outputs": [
    {
     "name": "stdout",
     "output_type": "stream",
     "text": [
      "Accuracy = 0.82\n",
      "Recall = 1.00\n",
      "Precision = 0.40\n",
      "F1 = 0.57\n"
     ]
    }
   ],
   "source": [
    "accuracy = accuracy_score(df['v1'], df['predictions'])\n",
    "recall = recall_score(df['v1'], df['predictions'])\n",
    "f1 = f1_score(df['v1'], df['predictions'])\n",
    "precision = precision_score(df['v1'], df['predictions'])\n",
    "print(f'Accuracy = {accuracy:.2f}\\nRecall = {recall:.2f}\\nPrecision = {precision:.2f}\\nF1 = {f1:.2f}')"
   ]
  },
  {
   "cell_type": "markdown",
   "metadata": {},
   "source": [
    "### Protegi"
   ]
  },
  {
   "cell_type": "code",
   "execution_count": 5,
   "metadata": {},
   "outputs": [],
   "source": [
    "prot = Protegi()\n",
    "prompt = strings['templates']['prediction_template']\n",
    "error_str = prot._sample_errors_string(df=df, true_col='v1', pred_col='preds', text_col='v2')\n",
    "grad = prot._get_gradient(error_str)\n",
    "new_prompts = prot.apply_gradient(prompt=prompt, error_str=error_str, feedback_str=grad, steps_per_gradient=3)"
   ]
  },
  {
   "cell_type": "code",
   "execution_count": 6,
   "metadata": {},
   "outputs": [
    {
     "name": "stdout",
     "output_type": "stream",
     "text": [
      "1. \"Classify the following message as spam or not spam. \n",
      "Message: {message}\n",
      "\"\n",
      "\n",
      "2. \"Is the following message spam? \n",
      "Message: {message}\n",
      "\"\n",
      "\n",
      "3. \"Identify if the message below is spam. \n",
      "Message: {message}\n",
      "\"\n",
      "\n",
      "I will test these prompts and see if they improve the accuracy of the zero-shot classifier.\n"
     ]
    }
   ],
   "source": [
    "print(new_prompts.content)"
   ]
  },
  {
   "cell_type": "code",
   "execution_count": 8,
   "metadata": {},
   "outputs": [
    {
     "name": "stdout",
     "output_type": "stream",
     "text": [
      "<START>\n",
      "1. The prompt may not be capturing the full context of the message, leading to misinterpretation of the content as spam.\n",
      "<END>\n",
      "<START>\n",
      "2. The language and tone of the message may be misleading, causing the model to incorrectly classify it as spam.\n",
      "<END>\n",
      "<START>\n",
      "3. The prompt may not be effectively training the model to differentiate between spam and non-spam messages, leading to inaccurate predictions.\n",
      "<END>\n"
     ]
    }
   ],
   "source": [
    "print(grad.content)"
   ]
  },
  {
   "cell_type": "code",
   "execution_count": null,
   "metadata": {},
   "outputs": [],
   "source": []
  }
 ],
 "metadata": {
  "kernelspec": {
   "display_name": "course_work",
   "language": "python",
   "name": "python3"
  },
  "language_info": {
   "codemirror_mode": {
    "name": "ipython",
    "version": 3
   },
   "file_extension": ".py",
   "mimetype": "text/x-python",
   "name": "python",
   "nbconvert_exporter": "python",
   "pygments_lexer": "ipython3",
   "version": "3.11.6"
  }
 },
 "nbformat": 4,
 "nbformat_minor": 2
}
